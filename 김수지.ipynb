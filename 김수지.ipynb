{
  "nbformat": 4,
  "nbformat_minor": 0,
  "metadata": {
    "colab": {
      "name": "김수지",
      "provenance": [],
      "collapsed_sections": []
    },
    "kernelspec": {
      "name": "python3",
      "display_name": "Python 3"
    },
    "language_info": {
      "name": "python"
    }
  },
  "cells": [
    {
      "cell_type": "markdown",
      "source": [
        "#전국 시도별 선거권 통계(만 18세 이상)"
      ],
      "metadata": {
        "id": "8aBWu0WOkg0f"
      }
    },
    {
      "cell_type": "code",
      "source": [
        "  !sudo apt-get install -y fonts-nanum\n",
        "  !sudo fc-cache -fv\n",
        "  !rm ~/.cache/matplotlib -rf"
      ],
      "metadata": {
        "colab": {
          "base_uri": "https://localhost:8080/",
          "height": 0
        },
        "id": "8HNaOgvY3DKq",
        "outputId": "c5d83b71-99c1-4d7a-996a-c98eaaac1d70"
      },
      "execution_count": 1,
      "outputs": [
        {
          "output_type": "stream",
          "name": "stdout",
          "text": [
            "Reading package lists... Done\n",
            "Building dependency tree       \n",
            "Reading state information... Done\n",
            "fonts-nanum is already the newest version (20170925-1).\n",
            "0 upgraded, 0 newly installed, 0 to remove and 39 not upgraded.\n",
            "/usr/share/fonts: caching, new cache contents: 0 fonts, 1 dirs\n",
            "/usr/share/fonts/truetype: caching, new cache contents: 0 fonts, 3 dirs\n",
            "/usr/share/fonts/truetype/humor-sans: caching, new cache contents: 1 fonts, 0 dirs\n",
            "/usr/share/fonts/truetype/liberation: caching, new cache contents: 16 fonts, 0 dirs\n",
            "/usr/share/fonts/truetype/nanum: caching, new cache contents: 10 fonts, 0 dirs\n",
            "/usr/local/share/fonts: caching, new cache contents: 0 fonts, 0 dirs\n",
            "/root/.local/share/fonts: skipping, no such directory\n",
            "/root/.fonts: skipping, no such directory\n",
            "/var/cache/fontconfig: cleaning cache directory\n",
            "/root/.cache/fontconfig: not cleaning non-existent cache directory\n",
            "/root/.fontconfig: not cleaning non-existent cache directory\n",
            "fc-cache: succeeded\n"
          ]
        }
      ]
    },
    {
      "cell_type": "code",
      "source": [
        "import pandas as pd\n",
        "import numpy as np\n",
        "import re\n",
        "import matplotlib.pyplot as plt\n",
        "import matplotlib\n",
        "from matplotlib import rc\n"
      ],
      "metadata": {
        "id": "kR4V81VZVVHu"
      },
      "execution_count": 2,
      "outputs": []
    },
    {
      "cell_type": "code",
      "source": [
        "#df=pd.read_csv('age.csv')\n",
        "df = pd.read_csv('age.csv', thousands = ',')\n",
        "df.head()"
      ],
      "metadata": {
        "colab": {
          "base_uri": "https://localhost:8080/",
          "height": 470
        },
        "id": "CC2TYFy5VZI1",
        "outputId": "e085a60f-2f82-403e-dbaa-61e94b201942"
      },
      "execution_count": 3,
      "outputs": [
        {
          "output_type": "execute_result",
          "data": {
            "text/plain": [
              "                          행정구역  2019년02월_계_총인구수  2019년02월_계_연령구간인구수  \\\n",
              "0          서울특별시  (1100000000)          9770638             9770638   \n",
              "1       서울특별시 종로구 (1111000000)           152880              152880   \n",
              "2  서울특별시 종로구 청운효자동(1111051500)            13010               13010   \n",
              "3    서울특별시 종로구 사직동(1111053000)             9584                9584   \n",
              "4    서울특별시 종로구 삼청동(1111054000)             2820                2820   \n",
              "\n",
              "   2019년02월_계_0세  2019년02월_계_1세  2019년02월_계_2세  2019년02월_계_3세  2019년02월_계_4세  \\\n",
              "0          53738          59599          65815          70726          70037   \n",
              "1            593            683            775            874            852   \n",
              "2             66             79             72             98             98   \n",
              "3             43             50             64             67             67   \n",
              "4              9             15              3             21             11   \n",
              "\n",
              "   2019년02월_계_5세  2019년02월_계_6세  ...  2019년02월_계_91세  2019년02월_계_92세  \\\n",
              "0          69000          76377  ...            7199            5374   \n",
              "1            863           1023  ...             163             132   \n",
              "2             94            108  ...               9               8   \n",
              "3             70             94  ...              14               5   \n",
              "4             13              9  ...               6               6   \n",
              "\n",
              "   2019년02월_계_93세  2019년02월_계_94세  2019년02월_계_95세  2019년02월_계_96세  \\\n",
              "0            3972            2927            2813            2260   \n",
              "1             112              79              69              81   \n",
              "2              14               6               7               9   \n",
              "3              12               6               5               8   \n",
              "4               1               3               0               3   \n",
              "\n",
              "   2019년02월_계_97세  2019년02월_계_98세  2019년02월_계_99세  2019년02월_계_100세 이상  \n",
              "0            1565            1180             880                5932  \n",
              "1              53              40              39                 236  \n",
              "2               4               2               2                  16  \n",
              "3               2               5               4                  17  \n",
              "4               1               0               2                   7  \n",
              "\n",
              "[5 rows x 104 columns]"
            ],
            "text/html": [
              "\n",
              "  <div id=\"df-29717954-7246-496c-a0ee-8eac1c28327d\">\n",
              "    <div class=\"colab-df-container\">\n",
              "      <div>\n",
              "<style scoped>\n",
              "    .dataframe tbody tr th:only-of-type {\n",
              "        vertical-align: middle;\n",
              "    }\n",
              "\n",
              "    .dataframe tbody tr th {\n",
              "        vertical-align: top;\n",
              "    }\n",
              "\n",
              "    .dataframe thead th {\n",
              "        text-align: right;\n",
              "    }\n",
              "</style>\n",
              "<table border=\"1\" class=\"dataframe\">\n",
              "  <thead>\n",
              "    <tr style=\"text-align: right;\">\n",
              "      <th></th>\n",
              "      <th>행정구역</th>\n",
              "      <th>2019년02월_계_총인구수</th>\n",
              "      <th>2019년02월_계_연령구간인구수</th>\n",
              "      <th>2019년02월_계_0세</th>\n",
              "      <th>2019년02월_계_1세</th>\n",
              "      <th>2019년02월_계_2세</th>\n",
              "      <th>2019년02월_계_3세</th>\n",
              "      <th>2019년02월_계_4세</th>\n",
              "      <th>2019년02월_계_5세</th>\n",
              "      <th>2019년02월_계_6세</th>\n",
              "      <th>...</th>\n",
              "      <th>2019년02월_계_91세</th>\n",
              "      <th>2019년02월_계_92세</th>\n",
              "      <th>2019년02월_계_93세</th>\n",
              "      <th>2019년02월_계_94세</th>\n",
              "      <th>2019년02월_계_95세</th>\n",
              "      <th>2019년02월_계_96세</th>\n",
              "      <th>2019년02월_계_97세</th>\n",
              "      <th>2019년02월_계_98세</th>\n",
              "      <th>2019년02월_계_99세</th>\n",
              "      <th>2019년02월_계_100세 이상</th>\n",
              "    </tr>\n",
              "  </thead>\n",
              "  <tbody>\n",
              "    <tr>\n",
              "      <th>0</th>\n",
              "      <td>서울특별시  (1100000000)</td>\n",
              "      <td>9770638</td>\n",
              "      <td>9770638</td>\n",
              "      <td>53738</td>\n",
              "      <td>59599</td>\n",
              "      <td>65815</td>\n",
              "      <td>70726</td>\n",
              "      <td>70037</td>\n",
              "      <td>69000</td>\n",
              "      <td>76377</td>\n",
              "      <td>...</td>\n",
              "      <td>7199</td>\n",
              "      <td>5374</td>\n",
              "      <td>3972</td>\n",
              "      <td>2927</td>\n",
              "      <td>2813</td>\n",
              "      <td>2260</td>\n",
              "      <td>1565</td>\n",
              "      <td>1180</td>\n",
              "      <td>880</td>\n",
              "      <td>5932</td>\n",
              "    </tr>\n",
              "    <tr>\n",
              "      <th>1</th>\n",
              "      <td>서울특별시 종로구 (1111000000)</td>\n",
              "      <td>152880</td>\n",
              "      <td>152880</td>\n",
              "      <td>593</td>\n",
              "      <td>683</td>\n",
              "      <td>775</td>\n",
              "      <td>874</td>\n",
              "      <td>852</td>\n",
              "      <td>863</td>\n",
              "      <td>1023</td>\n",
              "      <td>...</td>\n",
              "      <td>163</td>\n",
              "      <td>132</td>\n",
              "      <td>112</td>\n",
              "      <td>79</td>\n",
              "      <td>69</td>\n",
              "      <td>81</td>\n",
              "      <td>53</td>\n",
              "      <td>40</td>\n",
              "      <td>39</td>\n",
              "      <td>236</td>\n",
              "    </tr>\n",
              "    <tr>\n",
              "      <th>2</th>\n",
              "      <td>서울특별시 종로구 청운효자동(1111051500)</td>\n",
              "      <td>13010</td>\n",
              "      <td>13010</td>\n",
              "      <td>66</td>\n",
              "      <td>79</td>\n",
              "      <td>72</td>\n",
              "      <td>98</td>\n",
              "      <td>98</td>\n",
              "      <td>94</td>\n",
              "      <td>108</td>\n",
              "      <td>...</td>\n",
              "      <td>9</td>\n",
              "      <td>8</td>\n",
              "      <td>14</td>\n",
              "      <td>6</td>\n",
              "      <td>7</td>\n",
              "      <td>9</td>\n",
              "      <td>4</td>\n",
              "      <td>2</td>\n",
              "      <td>2</td>\n",
              "      <td>16</td>\n",
              "    </tr>\n",
              "    <tr>\n",
              "      <th>3</th>\n",
              "      <td>서울특별시 종로구 사직동(1111053000)</td>\n",
              "      <td>9584</td>\n",
              "      <td>9584</td>\n",
              "      <td>43</td>\n",
              "      <td>50</td>\n",
              "      <td>64</td>\n",
              "      <td>67</td>\n",
              "      <td>67</td>\n",
              "      <td>70</td>\n",
              "      <td>94</td>\n",
              "      <td>...</td>\n",
              "      <td>14</td>\n",
              "      <td>5</td>\n",
              "      <td>12</td>\n",
              "      <td>6</td>\n",
              "      <td>5</td>\n",
              "      <td>8</td>\n",
              "      <td>2</td>\n",
              "      <td>5</td>\n",
              "      <td>4</td>\n",
              "      <td>17</td>\n",
              "    </tr>\n",
              "    <tr>\n",
              "      <th>4</th>\n",
              "      <td>서울특별시 종로구 삼청동(1111054000)</td>\n",
              "      <td>2820</td>\n",
              "      <td>2820</td>\n",
              "      <td>9</td>\n",
              "      <td>15</td>\n",
              "      <td>3</td>\n",
              "      <td>21</td>\n",
              "      <td>11</td>\n",
              "      <td>13</td>\n",
              "      <td>9</td>\n",
              "      <td>...</td>\n",
              "      <td>6</td>\n",
              "      <td>6</td>\n",
              "      <td>1</td>\n",
              "      <td>3</td>\n",
              "      <td>0</td>\n",
              "      <td>3</td>\n",
              "      <td>1</td>\n",
              "      <td>0</td>\n",
              "      <td>2</td>\n",
              "      <td>7</td>\n",
              "    </tr>\n",
              "  </tbody>\n",
              "</table>\n",
              "<p>5 rows × 104 columns</p>\n",
              "</div>\n",
              "      <button class=\"colab-df-convert\" onclick=\"convertToInteractive('df-29717954-7246-496c-a0ee-8eac1c28327d')\"\n",
              "              title=\"Convert this dataframe to an interactive table.\"\n",
              "              style=\"display:none;\">\n",
              "        \n",
              "  <svg xmlns=\"http://www.w3.org/2000/svg\" height=\"24px\"viewBox=\"0 0 24 24\"\n",
              "       width=\"24px\">\n",
              "    <path d=\"M0 0h24v24H0V0z\" fill=\"none\"/>\n",
              "    <path d=\"M18.56 5.44l.94 2.06.94-2.06 2.06-.94-2.06-.94-.94-2.06-.94 2.06-2.06.94zm-11 1L8.5 8.5l.94-2.06 2.06-.94-2.06-.94L8.5 2.5l-.94 2.06-2.06.94zm10 10l.94 2.06.94-2.06 2.06-.94-2.06-.94-.94-2.06-.94 2.06-2.06.94z\"/><path d=\"M17.41 7.96l-1.37-1.37c-.4-.4-.92-.59-1.43-.59-.52 0-1.04.2-1.43.59L10.3 9.45l-7.72 7.72c-.78.78-.78 2.05 0 2.83L4 21.41c.39.39.9.59 1.41.59.51 0 1.02-.2 1.41-.59l7.78-7.78 2.81-2.81c.8-.78.8-2.07 0-2.86zM5.41 20L4 18.59l7.72-7.72 1.47 1.35L5.41 20z\"/>\n",
              "  </svg>\n",
              "      </button>\n",
              "      \n",
              "  <style>\n",
              "    .colab-df-container {\n",
              "      display:flex;\n",
              "      flex-wrap:wrap;\n",
              "      gap: 12px;\n",
              "    }\n",
              "\n",
              "    .colab-df-convert {\n",
              "      background-color: #E8F0FE;\n",
              "      border: none;\n",
              "      border-radius: 50%;\n",
              "      cursor: pointer;\n",
              "      display: none;\n",
              "      fill: #1967D2;\n",
              "      height: 32px;\n",
              "      padding: 0 0 0 0;\n",
              "      width: 32px;\n",
              "    }\n",
              "\n",
              "    .colab-df-convert:hover {\n",
              "      background-color: #E2EBFA;\n",
              "      box-shadow: 0px 1px 2px rgba(60, 64, 67, 0.3), 0px 1px 3px 1px rgba(60, 64, 67, 0.15);\n",
              "      fill: #174EA6;\n",
              "    }\n",
              "\n",
              "    [theme=dark] .colab-df-convert {\n",
              "      background-color: #3B4455;\n",
              "      fill: #D2E3FC;\n",
              "    }\n",
              "\n",
              "    [theme=dark] .colab-df-convert:hover {\n",
              "      background-color: #434B5C;\n",
              "      box-shadow: 0px 1px 3px 1px rgba(0, 0, 0, 0.15);\n",
              "      filter: drop-shadow(0px 1px 2px rgba(0, 0, 0, 0.3));\n",
              "      fill: #FFFFFF;\n",
              "    }\n",
              "  </style>\n",
              "\n",
              "      <script>\n",
              "        const buttonEl =\n",
              "          document.querySelector('#df-29717954-7246-496c-a0ee-8eac1c28327d button.colab-df-convert');\n",
              "        buttonEl.style.display =\n",
              "          google.colab.kernel.accessAllowed ? 'block' : 'none';\n",
              "\n",
              "        async function convertToInteractive(key) {\n",
              "          const element = document.querySelector('#df-29717954-7246-496c-a0ee-8eac1c28327d');\n",
              "          const dataTable =\n",
              "            await google.colab.kernel.invokeFunction('convertToInteractive',\n",
              "                                                     [key], {});\n",
              "          if (!dataTable) return;\n",
              "\n",
              "          const docLinkHtml = 'Like what you see? Visit the ' +\n",
              "            '<a target=\"_blank\" href=https://colab.research.google.com/notebooks/data_table.ipynb>data table notebook</a>'\n",
              "            + ' to learn more about interactive tables.';\n",
              "          element.innerHTML = '';\n",
              "          dataTable['output_type'] = 'display_data';\n",
              "          await google.colab.output.renderOutput(dataTable, element);\n",
              "          const docLink = document.createElement('div');\n",
              "          docLink.innerHTML = docLinkHtml;\n",
              "          element.appendChild(docLink);\n",
              "        }\n",
              "      </script>\n",
              "    </div>\n",
              "  </div>\n",
              "  "
            ]
          },
          "metadata": {},
          "execution_count": 3
        }
      ]
    },
    {
      "cell_type": "code",
      "source": [
        "#서울특별시 만 18세 이상 인구 합계\n",
        "a1=df.iloc[0,21:]\n",
        "print(a1)\n",
        "s1=np.sum(a1)\n",
        "print(s1)\n",
        "\n",
        "#서울특별시 18세 이상 인구 비율\n",
        "total_s = df.iloc[0,1]\n",
        "print(s1/total_s)"
      ],
      "metadata": {
        "colab": {
          "base_uri": "https://localhost:8080/",
          "height": 0
        },
        "id": "apFnywPBWCds",
        "outputId": "8772f906-9828-47a3-81fb-a0315352e058"
      },
      "execution_count": 4,
      "outputs": [
        {
          "output_type": "stream",
          "name": "stdout",
          "text": [
            "2019년02월_계_18세        107254\n",
            "2019년02월_계_19세        109552\n",
            "2019년02월_계_20세        114315\n",
            "2019년02월_계_21세        122473\n",
            "2019년02월_계_22세        129497\n",
            "                       ...  \n",
            "2019년02월_계_96세          2260\n",
            "2019년02월_계_97세          1565\n",
            "2019년02월_계_98세          1180\n",
            "2019년02월_계_99세           880\n",
            "2019년02월_계_100세 이상      5932\n",
            "Name: 0, Length: 83, dtype: object\n",
            "8451591\n",
            "0.8649988874830896\n"
          ]
        }
      ]
    },
    {
      "cell_type": "code",
      "source": [
        "#부산광역시 만 18세 이상 인구 합계\n",
        "a2=df.iloc[450,21:]\n",
        "print(a2)\n",
        "s2=np.sum(a2)\n",
        "print(s2)\n",
        "\n",
        "#부산광역시 18세 이상 인구 비율\n",
        "total_b = df.iloc[450,1]\n",
        "print(s2/total_b)"
      ],
      "metadata": {
        "colab": {
          "base_uri": "https://localhost:8080/",
          "height": 0
        },
        "id": "HcFeft1tkBEN",
        "outputId": "6e7f2ec2-958d-4616-bb47-0cf3bf3da5ab"
      },
      "execution_count": 5,
      "outputs": [
        {
          "output_type": "stream",
          "name": "stdout",
          "text": [
            "2019년02월_계_18세        37359\n",
            "2019년02월_계_19세        37731\n",
            "2019년02월_계_20세        39047\n",
            "2019년02월_계_21세        42222\n",
            "2019년02월_계_22세        44759\n",
            "                      ...  \n",
            "2019년02월_계_96세          676\n",
            "2019년02월_계_97세          456\n",
            "2019년02월_계_98세          301\n",
            "2019년02월_계_99세          233\n",
            "2019년02월_계_100세 이상     1697\n",
            "Name: 450, Length: 83, dtype: object\n",
            "2967340\n",
            "0.8635452225258495\n"
          ]
        }
      ]
    },
    {
      "cell_type": "code",
      "source": [
        "#대구광역시 만 18세 이상 인구 합계\n",
        "a3=df.iloc[673,21:]\n",
        "print(a3)\n",
        "s3=np.sum(a3)\n",
        "print(s3)\n",
        "\n",
        "#대구광역시 18세 이상 인구 비율\n",
        "total_d = df.iloc[673,1]\n",
        "print(s3/total_d)"
      ],
      "metadata": {
        "colab": {
          "base_uri": "https://localhost:8080/",
          "height": 0
        },
        "id": "1ll_A7Qjmm4F",
        "outputId": "eb921040-b28d-4993-bdb1-b74b2c784b04"
      },
      "execution_count": 6,
      "outputs": [
        {
          "output_type": "stream",
          "name": "stdout",
          "text": [
            "2019년02월_계_18세        31847\n",
            "2019년02월_계_19세        31153\n",
            "2019년02월_계_20세        31247\n",
            "2019년02월_계_21세        34059\n",
            "2019년02월_계_22세        34452\n",
            "                      ...  \n",
            "2019년02월_계_96세          387\n",
            "2019년02월_계_97세          283\n",
            "2019년02월_계_98세          192\n",
            "2019년02월_계_99세          131\n",
            "2019년02월_계_100세 이상      642\n",
            "Name: 673, Length: 83, dtype: object\n",
            "2079932\n",
            "0.8461412662755305\n"
          ]
        }
      ]
    },
    {
      "cell_type": "code",
      "source": [
        "#인천광역시 만 18세 이상 인구 합계\n",
        "a4=df.iloc[823,21:]\n",
        "print(a4)\n",
        "s4=np.sum(a4)\n",
        "print(s4)\n",
        "\n",
        "#인천광역시 18세 이상 인구 비율\n",
        "total_i = df.iloc[823,1]\n",
        "print(s4/total_i)"
      ],
      "metadata": {
        "colab": {
          "base_uri": "https://localhost:8080/",
          "height": 0
        },
        "id": "h1Wjw56xn7fh",
        "outputId": "1b9bdf17-664b-4b05-8992-5b0ad89d705d"
      },
      "execution_count": 7,
      "outputs": [
        {
          "output_type": "stream",
          "name": "stdout",
          "text": [
            "2019년02월_계_18세        35360\n",
            "2019년02월_계_19세        35255\n",
            "2019년02월_계_20세        35655\n",
            "2019년02월_계_21세        38246\n",
            "2019년02월_계_22세        39445\n",
            "                      ...  \n",
            "2019년02월_계_96세          606\n",
            "2019년02월_계_97세          403\n",
            "2019년02월_계_98세          271\n",
            "2019년02월_계_99세          199\n",
            "2019년02월_계_100세 이상      845\n",
            "Name: 823, Length: 83, dtype: object\n",
            "2486019\n",
            "0.8409898571173889\n"
          ]
        }
      ]
    },
    {
      "cell_type": "code",
      "source": [
        "#광주광역시 만 18세 이상 인구 합계\n",
        "a5=df.iloc[991,21:]\n",
        "print(a5)\n",
        "s5=np.sum(a5)\n",
        "print(s5)\n",
        "\n",
        "#광주광역시 18세 이상 인구 비율\n",
        "total_g = df.iloc[991,1]\n",
        "print(s5/total_g)"
      ],
      "metadata": {
        "colab": {
          "base_uri": "https://localhost:8080/",
          "height": 0
        },
        "id": "4QC3x__JoMjk",
        "outputId": "6028e040-efee-4345-817d-4bbeac2c67b1"
      },
      "execution_count": 8,
      "outputs": [
        {
          "output_type": "stream",
          "name": "stdout",
          "text": [
            "2019년02월_계_18세        21593\n",
            "2019년02월_계_19세        21315\n",
            "2019년02월_계_20세        21501\n",
            "2019년02월_계_21세        22503\n",
            "2019년02월_계_22세        22454\n",
            "                      ...  \n",
            "2019년02월_계_96세          282\n",
            "2019년02월_계_97세          197\n",
            "2019년02월_계_98세          122\n",
            "2019년02월_계_99세           94\n",
            "2019년02월_계_100세 이상      376\n",
            "Name: 991, Length: 83, dtype: object\n",
            "1201569\n",
            "0.8234391532941158\n"
          ]
        }
      ]
    },
    {
      "cell_type": "code",
      "source": [
        "#대전광역시 만 18세 이상 인구 합계\n",
        "a6=df.iloc[1092,21:]\n",
        "print(a6)\n",
        "s6=np.sum(a6)\n",
        "print(s6)\n",
        "\n",
        "#대전광역시 18세 이상 인구 비율\n",
        "total_dj = df.iloc[1092,1]\n",
        "print(s6/total_dj)"
      ],
      "metadata": {
        "colab": {
          "base_uri": "https://localhost:8080/",
          "height": 0
        },
        "id": "wjv9TgpWoLcp",
        "outputId": "15552a96-050b-49f9-cebe-799e17f534d1"
      },
      "execution_count": 9,
      "outputs": [
        {
          "output_type": "stream",
          "name": "stdout",
          "text": [
            "2019년02월_계_18세        19799\n",
            "2019년02월_계_19세        19554\n",
            "2019년02월_계_20세        20283\n",
            "2019년02월_계_21세        21444\n",
            "2019년02월_계_22세        22064\n",
            "                      ...  \n",
            "2019년02월_계_96세          264\n",
            "2019년02월_계_97세          189\n",
            "2019년02월_계_98세          122\n",
            "2019년02월_계_99세           70\n",
            "2019년02월_계_100세 이상      327\n",
            "Name: 1092, Length: 83, dtype: object\n",
            "1240522\n",
            "0.8339055058298406\n"
          ]
        }
      ]
    },
    {
      "cell_type": "code",
      "source": [
        "#울산광역시 만 18세 이상 인구 합계\n",
        "a7=df.iloc[1177,21:]\n",
        "print(a7)\n",
        "s7=np.sum(a7)\n",
        "print(s7)\n",
        "\n",
        "#울산광역시 18세 이상 인구 비율\n",
        "total_u = df.iloc[1177,1]\n",
        "print(s7/total_u)"
      ],
      "metadata": {
        "colab": {
          "base_uri": "https://localhost:8080/",
          "height": 0
        },
        "id": "Y8fNfes_o6gc",
        "outputId": "20c31094-4fe4-4181-872a-20f6013a4436"
      },
      "execution_count": 10,
      "outputs": [
        {
          "output_type": "stream",
          "name": "stdout",
          "text": [
            "2019년02월_계_18세        15000\n",
            "2019년02월_계_19세        14627\n",
            "2019년02월_계_20세        14871\n",
            "2019년02월_계_21세        15676\n",
            "2019년02월_계_22세        15851\n",
            "                      ...  \n",
            "2019년02월_계_96세          147\n",
            "2019년02월_계_97세           75\n",
            "2019년02월_계_98세           65\n",
            "2019년02월_계_99세           39\n",
            "2019년02월_계_100세 이상      156\n",
            "Name: 1177, Length: 83, dtype: object\n",
            "955368\n",
            "0.8280653702973386\n"
          ]
        }
      ]
    },
    {
      "cell_type": "code",
      "source": [
        "#세종특별자치시 만 18세 이상 인구 합계\n",
        "a8=df.iloc[1239,21:]\n",
        "print(a8)\n",
        "s8=np.sum(a8)\n",
        "print(s8)\n",
        "\n",
        "#세종특별자치시 18세 이상 인구 비율\n",
        "total_sj = df.iloc[1239,1]\n",
        "print(s8/total_sj)"
      ],
      "metadata": {
        "colab": {
          "base_uri": "https://localhost:8080/",
          "height": 0
        },
        "id": "FaNNnvGko5px",
        "outputId": "5fa349a0-c437-499a-86dd-ce84ae1f44a3"
      },
      "execution_count": 11,
      "outputs": [
        {
          "output_type": "stream",
          "name": "stdout",
          "text": [
            "2019년02월_계_18세        3288\n",
            "2019년02월_계_19세        3224\n",
            "2019년02월_계_20세        3174\n",
            "2019년02월_계_21세        3062\n",
            "2019년02월_계_22세        3138\n",
            "                      ... \n",
            "2019년02월_계_96세          43\n",
            "2019년02월_계_97세          47\n",
            "2019년02월_계_98세           9\n",
            "2019년02월_계_99세           8\n",
            "2019년02월_계_100세 이상      54\n",
            "Name: 1239, Length: 83, dtype: object\n",
            "243991\n",
            "0.761695897304621\n"
          ]
        }
      ]
    },
    {
      "cell_type": "code",
      "source": [
        "#경기도 만 18세 이상 인구 합계\n",
        "a9=df.iloc[1260,21:]\n",
        "print(a9)\n",
        "s9=np.sum(a9)\n",
        "print(s9)\n",
        "\n",
        "#경기도 18세 이상 인구 비율\n",
        "total_gy = df.iloc[1260,1]\n",
        "print(s9/total_gy)"
      ],
      "metadata": {
        "colab": {
          "base_uri": "https://localhost:8080/",
          "height": 0
        },
        "id": "XGAWwLTgqVSQ",
        "outputId": "ac9cbe60-0e6b-4115-e76d-8f444d795796"
      },
      "execution_count": 12,
      "outputs": [
        {
          "output_type": "stream",
          "name": "stdout",
          "text": [
            "2019년02월_계_18세        165338\n",
            "2019년02월_계_19세        162091\n",
            "2019년02월_계_20세        162834\n",
            "2019년02월_계_21세        169794\n",
            "2019년02월_계_22세        170559\n",
            "                       ...  \n",
            "2019년02월_계_96세          2574\n",
            "2019년02월_계_97세          1623\n",
            "2019년02월_계_98세          1149\n",
            "2019년02월_계_99세           791\n",
            "2019년02월_계_100세 이상      3706\n",
            "Name: 1260, Length: 83, dtype: object\n",
            "10847324\n",
            "0.8277432761507784\n"
          ]
        }
      ]
    },
    {
      "cell_type": "code",
      "source": [
        "#강원도 만 18세 이상 인구 합계\n",
        "a10=df.iloc[1872,21:]\n",
        "print(a10)\n",
        "s10=np.sum(a10)\n",
        "print(s10)\n",
        "\n",
        "#강원도 18세 이상 인구 비율\n",
        "total_gw = df.iloc[1872,1]\n",
        "print(s10/total_gw)"
      ],
      "metadata": {
        "colab": {
          "base_uri": "https://localhost:8080/",
          "height": 0
        },
        "id": "o9tFOH_zqtYe",
        "outputId": "71b606e5-7dbc-489e-8600-ccc9aa1068d2"
      },
      "execution_count": 13,
      "outputs": [
        {
          "output_type": "stream",
          "name": "stdout",
          "text": [
            "2019년02월_계_18세        18555\n",
            "2019년02월_계_19세        18811\n",
            "2019년02월_계_20세        19312\n",
            "2019년02월_계_21세        19706\n",
            "2019년02월_계_22세        19532\n",
            "                      ...  \n",
            "2019년02월_계_96세          524\n",
            "2019년02월_계_97세          368\n",
            "2019년02월_계_98세          241\n",
            "2019년02월_계_99세          184\n",
            "2019년02월_계_100세 이상      742\n",
            "Name: 1872, Length: 83, dtype: object\n",
            "1317495\n",
            "0.8552690943201477\n"
          ]
        }
      ]
    },
    {
      "cell_type": "code",
      "source": [
        "#충청북도 만 18세 이상 인구 합계\n",
        "a11=df.iloc[2085,21:]\n",
        "print(a11)\n",
        "s11=np.sum(a11)\n",
        "print(s11)\n",
        "\n",
        "#충청북도 18세 이상 인구 비율\n",
        "total_cb = df.iloc[2085,1]\n",
        "print(s11/total_cb)"
      ],
      "metadata": {
        "colab": {
          "base_uri": "https://localhost:8080/",
          "height": 0
        },
        "id": "wwBRNRxcrHBy",
        "outputId": "e4d45744-d590-41be-cf1b-4f2dacb32ec4"
      },
      "execution_count": 14,
      "outputs": [
        {
          "output_type": "stream",
          "name": "stdout",
          "text": [
            "2019년02월_계_18세        19679\n",
            "2019년02월_계_19세        19373\n",
            "2019년02월_계_20세        20083\n",
            "2019년02월_계_21세        20832\n",
            "2019년02월_계_22세        20864\n",
            "                      ...  \n",
            "2019년02월_계_96세          460\n",
            "2019년02월_계_97세          300\n",
            "2019년02월_계_98세          171\n",
            "2019년02월_계_99세          104\n",
            "2019년02월_계_100세 이상      533\n",
            "Name: 2085, Length: 83, dtype: object\n",
            "1346517\n",
            "0.8421689595388737\n"
          ]
        }
      ]
    },
    {
      "cell_type": "code",
      "source": [
        "#충청남도 만 18세 이상 인구 합계\n",
        "a12=df.iloc[2254,21:]\n",
        "print(a12)\n",
        "s12=np.sum(a12)\n",
        "print(s12)\n",
        "\n",
        "#충청남도 18세 이상 인구 비율\n",
        "total_cn = df.iloc[2254,1]\n",
        "print(s12/total_cn)"
      ],
      "metadata": {
        "colab": {
          "base_uri": "https://localhost:8080/",
          "height": 0
        },
        "id": "o7DodPXprbU9",
        "outputId": "fb27078f-39d6-451d-cba7-cd18d01b0d3c"
      },
      "execution_count": 15,
      "outputs": [
        {
          "output_type": "stream",
          "name": "stdout",
          "text": [
            "2019년02월_계_18세        25405\n",
            "2019년02월_계_19세        24774\n",
            "2019년02월_계_20세        25088\n",
            "2019년02월_계_21세        25591\n",
            "2019년02월_계_22세        25506\n",
            "                      ...  \n",
            "2019년02월_계_96세          714\n",
            "2019년02월_계_97세          452\n",
            "2019년02월_계_98세          266\n",
            "2019년02월_계_99세          202\n",
            "2019년02월_계_100세 이상      802\n",
            "Name: 2254, Length: 83, dtype: object\n",
            "1775575\n",
            "0.8354184585098514\n"
          ]
        }
      ]
    },
    {
      "cell_type": "code",
      "source": [
        "#전라북도 만 18세 이상 인구 합계\n",
        "a13=df.iloc[2481,21:]\n",
        "print(a13)\n",
        "s13=np.sum(a13)\n",
        "print(s13)\n",
        "\n",
        "#전라북도 18세 이상 인구 비율\n",
        "total_jb = df.iloc[2481,1]\n",
        "print(s13/total_jb)"
      ],
      "metadata": {
        "colab": {
          "base_uri": "https://localhost:8080/",
          "height": 0
        },
        "id": "lvFpt0PTrq_7",
        "outputId": "8f31724f-a540-4fef-815b-eb6237019e82"
      },
      "execution_count": 16,
      "outputs": [
        {
          "output_type": "stream",
          "name": "stdout",
          "text": [
            "2019년02월_계_18세        23841\n",
            "2019년02월_계_19세        23249\n",
            "2019년02월_계_20세        23667\n",
            "2019년02월_계_21세        24414\n",
            "2019년02월_계_22세        24357\n",
            "                      ...  \n",
            "2019년02월_계_96세          726\n",
            "2019년02월_계_97세          359\n",
            "2019년02월_계_98세          280\n",
            "2019년02월_계_99세          194\n",
            "2019년02월_계_100세 이상      765\n",
            "Name: 2481, Length: 83, dtype: object\n",
            "1547831\n",
            "0.8447812416256283\n"
          ]
        }
      ]
    },
    {
      "cell_type": "code",
      "source": [
        "#전라남도 만 18세 이상 인구 합계\n",
        "a14=df.iloc[2741,21:]\n",
        "print(a14)\n",
        "s14=np.sum(a14)\n",
        "print(s14)\n",
        "\n",
        "#전라남도 18세 이상 인구 비율\n",
        "total_jn = df.iloc[2741,1]\n",
        "print(s14/total_jn)"
      ],
      "metadata": {
        "colab": {
          "base_uri": "https://localhost:8080/",
          "height": 0
        },
        "id": "mhg-CZL2sEpg",
        "outputId": "fdbfe29d-84ef-4bb3-d5f8-d4701c51e6c8"
      },
      "execution_count": 17,
      "outputs": [
        {
          "output_type": "stream",
          "name": "stdout",
          "text": [
            "2019년02월_계_18세        23093\n",
            "2019년02월_계_19세        23169\n",
            "2019년02월_계_20세        22839\n",
            "2019년02월_계_21세        23571\n",
            "2019년02월_계_22세        23110\n",
            "                      ...  \n",
            "2019년02월_계_96세          935\n",
            "2019년02월_계_97세          459\n",
            "2019년02월_계_98세          335\n",
            "2019년02월_계_99세          223\n",
            "2019년02월_계_100세 이상      781\n",
            "Name: 2741, Length: 83, dtype: object\n",
            "1596827\n",
            "0.8512497187959456\n"
          ]
        }
      ]
    },
    {
      "cell_type": "code",
      "source": [
        "#경상북도 만 18세 이상 인구 합계\n",
        "a15=df.iloc[3087,21:]\n",
        "print(a15)\n",
        "s15=np.sum(a15)\n",
        "print(s15)\n",
        "\n",
        "#경상북도 18세 이상 인구 비율\n",
        "total_gb = df.iloc[3087,1]\n",
        "print(s15/total_gb)"
      ],
      "metadata": {
        "colab": {
          "base_uri": "https://localhost:8080/",
          "height": 0
        },
        "id": "SK6TPN3EsYv4",
        "outputId": "b35a44e0-25a6-4976-fb38-84b514ee9cfe"
      },
      "execution_count": 18,
      "outputs": [
        {
          "output_type": "stream",
          "name": "stdout",
          "text": [
            "2019년02월_계_18세        30662\n",
            "2019년02월_계_19세        30746\n",
            "2019년02월_계_20세        30101\n",
            "2019년02월_계_21세        32070\n",
            "2019년02월_계_22세        31888\n",
            "                      ...  \n",
            "2019년02월_계_96세          844\n",
            "2019년02월_계_97세          597\n",
            "2019년02월_계_98세          348\n",
            "2019년02월_계_99세          270\n",
            "2019년02월_계_100세 이상      872\n",
            "Name: 3087, Length: 83, dtype: object\n",
            "2283617\n",
            "0.8547792005276265\n"
          ]
        }
      ]
    },
    {
      "cell_type": "code",
      "source": [
        "#경상남도 만 18세 이상 인구 합계\n",
        "a16=df.iloc[3458,21:]\n",
        "print(a16)\n",
        "s16=np.sum(a16)\n",
        "print(s16)\n",
        "\n",
        "#경상남도 18세 이상 인구 비율\n",
        "total_gn = df.iloc[3458,1]\n",
        "print(s16/total_gn)"
      ],
      "metadata": {
        "colab": {
          "base_uri": "https://localhost:8080/",
          "height": 0
        },
        "id": "2stDqWRTsuuW",
        "outputId": "0267b419-bc9c-421b-edf7-f1c1f6a33a97"
      },
      "execution_count": 19,
      "outputs": [
        {
          "output_type": "stream",
          "name": "stdout",
          "text": [
            "2019년02월_계_18세        41988\n",
            "2019년02월_계_19세        41332\n",
            "2019년02월_계_20세        41279\n",
            "2019년02월_계_21세        42430\n",
            "2019년02월_계_22세        42585\n",
            "                      ...  \n",
            "2019년02월_계_96세          744\n",
            "2019년02월_계_97세          437\n",
            "2019년02월_계_98세          294\n",
            "2019년02월_계_99세          162\n",
            "2019년02월_계_100세 이상      690\n",
            "Name: 3458, Length: 83, dtype: object\n",
            "2816169\n",
            "0.8354065955189771\n"
          ]
        }
      ]
    },
    {
      "cell_type": "code",
      "source": [
        "#제주특별자치도 만 18세 이상 인구 합계\n",
        "a17=df.iloc[3795,21:]\n",
        "print(a17)\n",
        "s17=np.sum(a17)\n",
        "print(s17)\n",
        "\n",
        "#제주특별자치도 18세 이상 인구 비율\n",
        "total_jj = df.iloc[3795,1]\n",
        "print(s17/total_jj)"
      ],
      "metadata": {
        "colab": {
          "base_uri": "https://localhost:8080/",
          "height": 0
        },
        "id": "rprihlrPs_WN",
        "outputId": "004ae6cd-c817-4c47-9d5f-73455c8c4df0"
      },
      "execution_count": 20,
      "outputs": [
        {
          "output_type": "stream",
          "name": "stdout",
          "text": [
            "2019년02월_계_18세        8689\n",
            "2019년02월_계_19세        8388\n",
            "2019년02월_계_20세        8302\n",
            "2019년02월_계_21세        8678\n",
            "2019년02월_계_22세        8627\n",
            "                      ... \n",
            "2019년02월_계_96세         334\n",
            "2019년02월_계_97세         225\n",
            "2019년02월_계_98세         114\n",
            "2019년02월_계_99세          77\n",
            "2019년02월_계_100세 이상     251\n",
            "Name: 3795, Length: 83, dtype: object\n",
            "547793\n",
            "0.8206366232124185\n"
          ]
        }
      ]
    },
    {
      "cell_type": "code",
      "source": [
        "#시도별 만 18세 이상 인구 '\n",
        "\n",
        "area=['서울', '부산', '대구', '인천', '광주', '대전', '울산', '세종', '경기', '강원', '충북', '충남', '전북', '전남', '경북', '경남', '제주']\n",
        "s_array = [8451591,2967340,2079932,2486019,1201569,1240522,955368,243991,10847324,1317495,1346517,1775575,1547831,1596827,2283617,2816169,547793]\n"
      ],
      "metadata": {
        "id": "ObtDnajgtW70"
      },
      "execution_count": 22,
      "outputs": []
    },
    {
      "cell_type": "code",
      "source": [
        "#시도별 만 18세 이상 인구 합계\n",
        "all=np.sum(s_array)\n",
        "print(all)\n",
        "\n",
        "#시도별 만 18세 이상 인구 비율 \n",
        "p=[]\n",
        "for i in range(17):\n",
        "  v = (s_array[i]/all)\n",
        "  p.append(v)\n",
        "print(p)"
      ],
      "metadata": {
        "colab": {
          "base_uri": "https://localhost:8080/",
          "height": 0
        },
        "id": "haYPDJxhwXxm",
        "outputId": "194d7889-ba64-49ac-e44d-bf6b73c09f9e"
      },
      "execution_count": 23,
      "outputs": [
        {
          "output_type": "stream",
          "name": "stdout",
          "text": [
            "43705480\n",
            "[0.19337600227706, 0.06789400322339441, 0.047589730166560346, 0.05688117371093968, 0.027492410562702893, 0.028383671795848026, 0.02185922680634099, 0.005582618014949155, 0.2481913938480941, 0.030144846824700245, 0.030808882547451715, 0.0406259123569859, 0.03541503262291136, 0.036536081974159765, 0.0522501297320153, 0.06443514634778065, 0.012533737188105474]\n"
          ]
        }
      ]
    },
    {
      "cell_type": "code",
      "source": [
        "#시각화 \n",
        "import matplotlib.pyplot as plt\n",
        "plt.rc('font', family='NanumBarunGothic')\n",
        "plt.bar(area, s_array)\n",
        "plt.title('시도별 만 18세 이상 인구')\n",
        "plt.xlabel('지역')\n",
        "plt.ylabel('인구 합계')"
      ],
      "metadata": {
        "colab": {
          "base_uri": "https://localhost:8080/",
          "height": 312
        },
        "id": "gWwpH1NbwuPB",
        "outputId": "b8b62684-0b13-4bfd-815a-276b5e615397"
      },
      "execution_count": 24,
      "outputs": [
        {
          "output_type": "execute_result",
          "data": {
            "text/plain": [
              "Text(0, 0.5, '인구 합계')"
            ]
          },
          "metadata": {},
          "execution_count": 24
        },
        {
          "output_type": "display_data",
          "data": {
            "text/plain": [
              "<Figure size 432x288 with 1 Axes>"
            ],
            "image/png": "[encoded data removed]"
          },
          "metadata": {
            "needs_background": "light"
          }
        }
      ]
    },
    {
      "cell_type": "code",
      "source": [
        "plt.plot(area,p, 'green', marker='o')\n",
        "plt.title('시도별 만 18세 이상 인구 비율')\n",
        "plt.xlabel('지역')\n",
        "plt.ylabel('인구 비율')"
      ],
      "metadata": {
        "colab": {
          "base_uri": "https://localhost:8080/",
          "height": 312
        },
        "id": "X7KtdU6D9xh3",
        "outputId": "bd755041-08da-403f-8fde-ba76279f7f9a"
      },
      "execution_count": 25,
      "outputs": [
        {
          "output_type": "execute_result",
          "data": {
            "text/plain": [
              "Text(0, 0.5, '인구 비율')"
            ]
          },
          "metadata": {},
          "execution_count": 25
        },
        {
          "output_type": "display_data",
          "data": {
            "text/plain": [
              "<Figure size 432x288 with 1 Axes>"
            ],
            "image/png": "[encoded data removed]"
          },
          "metadata": {
            "needs_background": "light"
          }
        }
      ]
    },
    {
      "cell_type": "code",
      "source": [
        "#상위 3개 도시 비교\n",
        "dic= {'서울':s1, '부산':s2, '대구':s3, '인천':s4, '광주':s5, '대전':s6, '울산':s7, '세종':s8, '경기':s9, '강원':s10, '충북':s11, '충남':s12, '전북':s13, '전남':s14, '경북':s15, '경남':s16, '제주':s17}\n",
        "dic.items()\n",
        "\n",
        "top = sorted(dic.items(), key=lambda x: x[1], reverse=True)\n",
        "print(top)  #결과 : 경기, 서울, 부산 \n"
      ],
      "metadata": {
        "colab": {
          "base_uri": "https://localhost:8080/",
          "height": 0
        },
        "id": "s22pCsh4wtab",
        "outputId": "f42e9ece-bf8a-4466-bc89-b76801925569"
      },
      "execution_count": 26,
      "outputs": [
        {
          "output_type": "stream",
          "name": "stdout",
          "text": [
            "[('경기', 10847324), ('서울', 8451591), ('부산', 2967340), ('경남', 2816169), ('인천', 2486019), ('경북', 2283617), ('대구', 2079932), ('충남', 1775575), ('전남', 1596827), ('전북', 1547831), ('충북', 1346517), ('강원', 1317495), ('대전', 1240522), ('광주', 1201569), ('울산', 955368), ('제주', 547793), ('세종', 243991)]\n"
          ]
        }
      ]
    },
    {
      "cell_type": "code",
      "source": [
        "#상위 3개 도시 통계 시각화\n",
        "plt.bar(['경기', '서울', '부산'],[s9, s1, s2],color='skyblue')\n",
        "plt.title('만 18세 이상 인구 상위 3개 도시')\n",
        "plt.xlabel('지역')\n",
        "plt.ylabel('인구 합계')"
      ],
      "metadata": {
        "colab": {
          "base_uri": "https://localhost:8080/",
          "height": 312
        },
        "id": "7WfY93Ge_MHW",
        "outputId": "3063de3f-0fe4-4d0d-9518-75d29b285d96"
      },
      "execution_count": 27,
      "outputs": [
        {
          "output_type": "execute_result",
          "data": {
            "text/plain": [
              "Text(0, 0.5, '인구 합계')"
            ]
          },
          "metadata": {},
          "execution_count": 27
        },
        {
          "output_type": "display_data",
          "data": {
            "text/plain": [
              "<Figure size 432x288 with 1 Axes>"
            ],
            "image/png": "[encoded data removed]"
          },
          "metadata": {
            "needs_background": "light"
          }
        }
      ]
    },
    {
      "cell_type": "code",
      "source": [
        "#하위 3개 도시 비교\n",
        "bottom = sorted(dic.items(), key=lambda x: x[1])\n",
        "print(bottom) #결과 : 세종, 제주, 울산"
      ],
      "metadata": {
        "colab": {
          "base_uri": "https://localhost:8080/",
          "height": 0
        },
        "id": "nnATVjIhraYY",
        "outputId": "3c241c7c-a9e7-4bca-a665-b99174039bdd"
      },
      "execution_count": 28,
      "outputs": [
        {
          "output_type": "stream",
          "name": "stdout",
          "text": [
            "[('세종', 243991), ('제주', 547793), ('울산', 955368), ('광주', 1201569), ('대전', 1240522), ('강원', 1317495), ('충북', 1346517), ('전북', 1547831), ('전남', 1596827), ('충남', 1775575), ('대구', 2079932), ('경북', 2283617), ('인천', 2486019), ('경남', 2816169), ('부산', 2967340), ('서울', 8451591), ('경기', 10847324)]\n"
          ]
        }
      ]
    },
    {
      "cell_type": "code",
      "source": [
        "#하위 3개 도시 통계 시각화 \n",
        "plt.bar(['세종', '제주', '울산'],[s8, s17, s7],color='violet')\n",
        "plt.title('만 18세 이상 인구 하위 3개 도시')\n",
        "plt.xlabel('지역')\n",
        "plt.ylabel('인구 합계')"
      ],
      "metadata": {
        "colab": {
          "base_uri": "https://localhost:8080/",
          "height": 312
        },
        "id": "jqX_gjZ1Bmp9",
        "outputId": "db80aa67-6fe0-4f33-8a43-e77babc49f52"
      },
      "execution_count": 29,
      "outputs": [
        {
          "output_type": "execute_result",
          "data": {
            "text/plain": [
              "Text(0, 0.5, '인구 합계')"
            ]
          },
          "metadata": {},
          "execution_count": 29
        },
        {
          "output_type": "display_data",
          "data": {
            "text/plain": [
              "<Figure size 432x288 with 1 Axes>"
            ],
            "image/png": "[encoded data removed]"
          },
          "metadata": {
            "needs_background": "light"
          }
        }
      ]
    },
    {
      "cell_type": "code",
      "source": [
        "#상하위 3개 지역 연령대별 합계 \n",
        "#경기\n",
        "a_gy = [np.sum(df.iloc[1260,i+3:i+13])for i in range(20,100,10)]\n",
        "a_gy_teen = np.sum(df.iloc[1260,21:22])\n",
        "a_gy.insert(0,a_gy_teen)\n",
        "a_gy\n",
        "\n",
        "#서울\n",
        "a_s = [np.sum(df.iloc[0,i+3:i+13])for i in range(20,100,10)]\n",
        "a_s_teen = np.sum(df.iloc[0,21:22])\n",
        "a_s.insert(0,a_s_teen)\n",
        "a_s\n",
        "\n",
        "#부산\n",
        "a_b = [np.sum(df.iloc[450,i+3:i+13])for i in range(20,100,10)]\n",
        "a_b_teen = np.sum(df.iloc[450,21:22])\n",
        "a_b.insert(0,a_b_teen)\n",
        "a_b\n",
        "\n",
        "#세종 \n",
        "a_sj = [np.sum(df.iloc[1239,i+3:i+13])for i in range(20,100,10)]\n",
        "a_sj_teen = np.sum(df.iloc[1239,21:22])\n",
        "a_sj.insert(0,a_sj_teen)\n",
        "a_sj\n",
        "\n",
        "#제주 \n",
        "a_jj = [np.sum(df.iloc[3795,i+3:i+13])for i in range(20,100,10)]\n",
        "a_jj_teen = np.sum(df.iloc[3795,21:22])\n",
        "a_jj.insert(0,a_jj_teen)\n",
        "a_jj\n",
        "\n",
        "#울산 \n",
        "a_u = [np.sum(df.iloc[1177,i+3:i+13])for i in range(20,100,10)]\n",
        "a_u_teen = np.sum(df.iloc[1177,21:22])\n",
        "a_u.insert(0,a_u_teen)\n",
        "a_u"
      ],
      "metadata": {
        "colab": {
          "base_uri": "https://localhost:8080/",
          "height": 0
        },
        "id": "SSu_gyvkCJVi",
        "outputId": "23fcedd5-e867-4941-e112-781a75feed49"
      },
      "execution_count": 30,
      "outputs": [
        {
          "output_type": "execute_result",
          "data": {
            "text/plain": [
              "[15000, 151960, 165093, 193812, 211219, 126366, 54455, 19960, 2720]"
            ]
          },
          "metadata": {},
          "execution_count": 30
        }
      ]
    },
    {
      "cell_type": "code",
      "source": [
        "#연령대별 인구 통계 시각화 \n",
        "plt.plot(a_gy,label='경기',color = 'red', marker='o')\n",
        "plt.plot(a_s,label='서울', color ='yellow',marker='o')\n",
        "plt.plot(a_b,label='부산', color ='green',marker='o')\n",
        "plt.plot(a_sj,label='세종', color ='skyblue',marker='+')\n",
        "plt.plot(a_jj,label='제주', color ='violet',marker='+')\n",
        "plt.plot(a_u,label='울산', color ='purple',marker='+')\n",
        "\n",
        "plt.title('상하위 3개 지역 만 18세 이상 인구 합계')\n",
        "plt.xlabel('연령대')\n",
        "plt.ylabel('인구 합계')\n",
        "plt.xticks([0,1,2,3,4,5,6,7,8],labels=['10대', '20대', '30대', '40대', '50대','60대','70대', '80대', '90대'])\n",
        "plt.legend()\n",
        "plt.show()"
      ],
      "metadata": {
        "colab": {
          "base_uri": "https://localhost:8080/",
          "height": 294
        },
        "id": "zcK6zvNMC0He",
        "outputId": "e4313d5c-cf91-496f-b677-2bf8bfe5bddf"
      },
      "execution_count": 31,
      "outputs": [
        {
          "output_type": "display_data",
          "data": {
            "text/plain": [
              "<Figure size 432x288 with 1 Axes>"
            ],
            "image/png": "[encoded data removed]"
          },
          "metadata": {
            "needs_background": "light"
          }
        }
      ]
    },
    {
      "cell_type": "code",
      "source": [
        "#상위 3개 지역 연령대별 비율 (만 18세 이상)\n",
        "\n",
        "#경기\n",
        "p_gy_teen = a_gy_teen/total_gy\n",
        "\n",
        "a_gy_20 = [np.sum(df.iloc[1260,23:33])]\n",
        "p_gy_20 = a_gy_20/total_gy\n",
        "\n",
        "a_gy_30 = [np.sum(df.iloc[1260,33:43])]\n",
        "p_gy_30 = a_gy_30/total_gy\n",
        "\n",
        "a_gy_40 = [np.sum(df.iloc[1260,43:53])]\n",
        "p_gy_40 = a_gy_40/total_gy\n",
        "\n",
        "a_gy_50 = [np.sum(df.iloc[1260,53:63])]\n",
        "p_gy_50 = a_gy_50/total_gy\n",
        "\n",
        "a_gy_60 = [np.sum(df.iloc[1260,63:73])]\n",
        "p_gy_60 = a_gy_60/total_gy\n",
        "\n",
        "a_gy_70 = [np.sum(df.iloc[1260,73:83])]\n",
        "p_gy_70 = a_gy_70/total_gy\n",
        "\n",
        "a_gy_80 = [np.sum(df.iloc[1260,83:93])]\n",
        "p_gy_80 = a_gy_80/total_gy\n",
        "\n",
        "a_gy_90 = [np.sum(df.iloc[1260,93:103])]\n",
        "p_gy_90 = a_gy_90/total_gy\n",
        "\n",
        "\n",
        "p_gy_list = [p_gy_teen, p_gy_20, p_gy_30, p_gy_40, p_gy_50, p_gy_60, p_gy_70, p_gy_80, p_gy_90]\n",
        "\n",
        "#서울\n",
        "p_s_teen = a_s_teen/total_s\n",
        "\n",
        "a_s_20 = [np.sum(df.iloc[0,23:33])]\n",
        "p_s_20 = a_s_20/total_s\n",
        "\n",
        "a_s_30 = [np.sum(df.iloc[0,33:43])]\n",
        "p_s_30 = a_s_30/total_s\n",
        "\n",
        "a_s_40 = [np.sum(df.iloc[0,43:53])]\n",
        "p_s_40 = a_s_40/total_s\n",
        "\n",
        "a_s_50 = [np.sum(df.iloc[0,53:63])]\n",
        "p_s_50 = a_s_50/total_s\n",
        "\n",
        "a_s_60 = [np.sum(df.iloc[0,63:73])]\n",
        "p_s_60 = a_s_60/total_s\n",
        "\n",
        "a_s_70 = [np.sum(df.iloc[0,73:83])]\n",
        "p_s_70 = a_s_70/total_s\n",
        "\n",
        "a_s_80 = [np.sum(df.iloc[0,83:93])]\n",
        "p_s_80 = a_s_80/total_s\n",
        "\n",
        "a_s_90 = [np.sum(df.iloc[0,93:103])]\n",
        "p_s_90 = a_s_90/total_s\n",
        "\n",
        "\n",
        "p_s_list = [p_s_teen, p_s_20, p_s_30, p_s_40, p_s_50, p_s_60, p_s_70, p_s_80, p_s_90]\n",
        "\n",
        "#부산\n",
        "p_b_teen = a_b_teen/total_b\n",
        "\n",
        "a_b_20 = [np.sum(df.iloc[450,23:33])]\n",
        "p_b_20 = a_b_20/total_b\n",
        "\n",
        "a_b_30 = [np.sum(df.iloc[450,33:43])]\n",
        "p_b_30 = a_b_30/total_b\n",
        "\n",
        "a_b_40 = [np.sum(df.iloc[450,43:53])]\n",
        "p_b_40 = a_b_40/total_b\n",
        "\n",
        "a_b_50 = [np.sum(df.iloc[450,53:63])]\n",
        "p_b_50 = a_b_50/total_b\n",
        "\n",
        "a_b_60 = [np.sum(df.iloc[450,63:73])]\n",
        "p_b_60 = a_b_60/total_b\n",
        "\n",
        "a_b_70 = [np.sum(df.iloc[450,73:83])]\n",
        "p_b_70 = a_b_70/total_b\n",
        "\n",
        "a_b_80 = [np.sum(df.iloc[450,83:93])]\n",
        "p_b_80 = a_b_80/total_b\n",
        "\n",
        "a_b_90 = [np.sum(df.iloc[450,93:103])]\n",
        "p_b_90 = a_b_90/total_b\n",
        "\n",
        "p_b_list = [p_b_teen, p_b_20, p_b_30, p_b_40, p_b_50, p_b_60, p_b_70, p_b_80, p_b_90]\n"
      ],
      "metadata": {
        "id": "rn9gNe3FJ1uG"
      },
      "execution_count": 33,
      "outputs": []
    },
    {
      "cell_type": "code",
      "source": [
        "#상위 3개 지역 연령대별 비율 (만 18세 이상) 시각화 \n",
        "\n",
        "plt.plot(p_gy_list,label='경기',color = 'red', marker='o')\n",
        "plt.plot(p_s_list,label='서울', color ='yellow',marker='*')\n",
        "plt.plot(p_b_list,label='부산', color ='green',marker='+')\n",
        "\n",
        "plt.title('상위 3개 지역 만 18세 이상 인구 비율')\n",
        "plt.xlabel('연령대')\n",
        "plt.ylabel('인구 비율')\n",
        "plt.xticks([0,1,2,3,4,5,6,7,8],labels=['10대', '20대', '30대', '40대', '50대','60대','70대', '80대', '90대'])\n",
        "plt.legend()\n",
        "plt.show()"
      ],
      "metadata": {
        "colab": {
          "base_uri": "https://localhost:8080/",
          "height": 350
        },
        "id": "3UuByaXlOYzX",
        "outputId": "362fa687-f914-4556-b2d1-20e1fa2d2fc4"
      },
      "execution_count": 35,
      "outputs": [
        {
          "output_type": "stream",
          "name": "stderr",
          "text": [
            "/usr/local/lib/python3.7/dist-packages/numpy/core/shape_base.py:65: VisibleDeprecationWarning: Creating an ndarray from ragged nested sequences (which is a list-or-tuple of lists-or-tuples-or ndarrays with different lengths or shapes) is deprecated. If you meant to do this, you must specify 'dtype=object' when creating the ndarray.\n",
            "  ary = asanyarray(ary)\n"
          ]
        },
        {
          "output_type": "display_data",
          "data": {
            "text/plain": [
              "<Figure size 432x288 with 1 Axes>"
            ],
            "image/png": "[encoded data removed]"
          },
          "metadata": {
            "needs_background": "light"
          }
        }
      ]
    },
    {
      "cell_type": "code",
      "source": [
        ""
      ],
      "metadata": {
        "id": "jGP2yy8CTS3T"
      },
      "execution_count": null,
      "outputs": []
    }
  ]
}