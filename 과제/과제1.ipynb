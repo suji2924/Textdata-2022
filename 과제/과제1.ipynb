{
  "nbformat": 4,
  "nbformat_minor": 0,
  "metadata": {
    "colab": {
      "name": "2주차 과제 (김수지)",
      "provenance": [],
      "collapsed_sections": []
    },
    "kernelspec": {
      "name": "python3",
      "display_name": "Python 3"
    },
    "language_info": {
      "name": "python"
    }
  },
  "cells": [
    {
      "cell_type": "markdown",
      "source": [
        "1. 키보드로 5가지의 과일을 입력받아서 입력된 과일에 ‘사과’가 있는지 판단하는 프로그램을 작성하세요. "
      ],
      "metadata": {
        "id": "Zw13RcqPNE3-"
      }
    },
    {
      "cell_type": "code",
      "source": [
        "x = input('과일 5가지를 입력하세요 : ')\n",
        "print(x.split())\n",
        "print('입력받은 과일에 사과가 있나요?','사과' in x)"
      ],
      "metadata": {
        "colab": {
          "base_uri": "https://localhost:8080/"
        },
        "id": "bRU-shL0NGjK",
        "outputId": "7f73b67f-53ca-431c-aa17-6424d482e59c"
      },
      "execution_count": 5,
      "outputs": [
        {
          "output_type": "stream",
          "name": "stdout",
          "text": [
            "과일 5가지를 입력하세요 : 무화과 사과 수박 딸기 바나나\n",
            "['무화과', '사과', '수박', '딸기', '바나나']\n",
            "입력받은 과일에 사과가 있나요? True\n"
          ]
        }
      ]
    },
    {
      "cell_type": "markdown",
      "source": [
        "2. s1 = set([1, 2, 3, 4, 5, 6])과 s2 = set([4, 5, 6, 7, 8, 9])있을 때 s1과 s2의 합집합을 구하고 중복을 제외한 요소의 개수를 나타내는 프로그램을 작성하시오. "
      ],
      "metadata": {
        "id": "XftL6j5DPmZW"
      }
    },
    {
      "cell_type": "code",
      "source": [
        "s1 = set([1, 2, 3, 4, 5, 6])\n",
        "s2 = set([4, 5, 6, 7, 8, 9])\n",
        "\n",
        "print(s1|s2)\n",
        "print(len(s1|s2))"
      ],
      "metadata": {
        "colab": {
          "base_uri": "https://localhost:8080/"
        },
        "id": "6rZMFelWPpew",
        "outputId": "bd09c22b-2842-4434-b892-a910f525aed0"
      },
      "execution_count": 6,
      "outputs": [
        {
          "output_type": "stream",
          "name": "stdout",
          "text": [
            "{1, 2, 3, 4, 5, 6, 7, 8, 9}\n",
            "9\n"
          ]
        }
      ]
    },
    {
      "cell_type": "markdown",
      "source": [
        "3.  사용자로부터 구구단의 몇단을 표시할지 입력받은후에 해당 구구단을 표시하는 프로그램을 작성하여 다음과 같은 결과가 나오도록 하세요"
      ],
      "metadata": {
        "id": "mnHtCj-rQTc6"
      }
    },
    {
      "cell_type": "code",
      "source": [
        "x = int(input('구구단 몇단을 계산할까요? : '))\n",
        "print('-', x, '단 -')\n",
        "\n",
        "for i in range(1,10):\n",
        "  print(x, '*', i, '=', i*x)"
      ],
      "metadata": {
        "colab": {
          "base_uri": "https://localhost:8080/"
        },
        "id": "VzlmxEroQWUb",
        "outputId": "d030b3fe-2a5c-46c4-9f89-5d9a778cdadc"
      },
      "execution_count": 23,
      "outputs": [
        {
          "output_type": "stream",
          "name": "stdout",
          "text": [
            "구구단 몇단을 계산할까요? : 3\n",
            "- 3 단 -\n",
            "3 * 1 = 3\n",
            "3 * 2 = 6\n",
            "3 * 3 = 9\n",
            "3 * 4 = 12\n",
            "3 * 5 = 15\n",
            "3 * 6 = 18\n",
            "3 * 7 = 21\n",
            "3 * 8 = 24\n",
            "3 * 9 = 27\n"
          ]
        }
      ]
    },
    {
      "cell_type": "markdown",
      "source": [
        "4. ‘htext2.txt’ 파일을 읽어서 단어로 분리하여 리스트로 만들어서 표시하세요. (참조 split()을 이용)"
      ],
      "metadata": {
        "id": "jN1smzb6SJZ2"
      }
    },
    {
      "cell_type": "code",
      "source": [
        "from google.colab import drive\n",
        "drive.mount('/content/drive')"
      ],
      "metadata": {
        "colab": {
          "base_uri": "https://localhost:8080/"
        },
        "id": "DQSBFHjATjYQ",
        "outputId": "0a6bfd1f-6f32-480c-9cce-4c3ec5738b71"
      },
      "execution_count": 15,
      "outputs": [
        {
          "output_type": "stream",
          "name": "stdout",
          "text": [
            "Drive already mounted at /content/drive; to attempt to forcibly remount, call drive.mount(\"/content/drive\", force_remount=True).\n"
          ]
        }
      ]
    },
    {
      "cell_type": "code",
      "source": [
        "f = open('/htext2.txt','r')\n",
        "disp = f.read()\n",
        "disp.split()\n"
      ],
      "metadata": {
        "colab": {
          "base_uri": "https://localhost:8080/"
        },
        "id": "VRrTHctYUP9p",
        "outputId": "d029cf94-71ac-44d1-8544-44643ee8b2f5"
      },
      "execution_count": 26,
      "outputs": [
        {
          "output_type": "execute_result",
          "data": {
            "text/plain": [
              "['3가지',\n",
              " '유형',\n",
              " '및',\n",
              " '9가지',\n",
              " '패턴의',\n",
              " '질문',\n",
              " '생성을',\n",
              " '위해',\n",
              " '형태소',\n",
              " '분석,',\n",
              " '빈도',\n",
              " '분석,',\n",
              " '개체사전,',\n",
              " '워드임베딩,',\n",
              " '유사도',\n",
              " '분석,',\n",
              " '군집',\n",
              " '분석,',\n",
              " '네트워크',\n",
              " '분석,',\n",
              " '그리고',\n",
              " '토픽모델링',\n",
              " '등의',\n",
              " '다양한',\n",
              " '분석',\n",
              " '기술을',\n",
              " '맞춤형으로',\n",
              " '적용하는',\n",
              " '체계적인',\n",
              " '프레임워크를',\n",
              " '제안하였다.']"
            ]
          },
          "metadata": {},
          "execution_count": 26
        }
      ]
    }
  ]
}
